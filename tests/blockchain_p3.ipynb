{
  "nbformat": 4,
  "nbformat_minor": 0,
  "metadata": {
    "colab": {
      "provenance": []
    },
    "kernelspec": {
      "name": "python3",
      "display_name": "Python 3"
    },
    "language_info": {
      "name": "python"
    }
  },
  "cells": [
    {
      "cell_type": "code",
      "source": [
        "!pip install web3==6.0.0b11\n",
        "!pip install -U \"web3[tester]\"\n",
        "!pip install py-solc-x"
      ],
      "metadata": {
        "colab": {
          "base_uri": "https://localhost:8080/"
        },
        "collapsed": true,
        "id": "xxrrmJls3pVk",
        "outputId": "9a391085-352b-464c-d9f9-36d8cde06db1"
      },
      "execution_count": 1,
      "outputs": [
        {
          "output_type": "stream",
          "name": "stdout",
          "text": [
            "Requirement already satisfied: web3==6.0.0b11 in /usr/local/lib/python3.10/dist-packages (6.0.0b11)\n",
            "Requirement already satisfied: aiohttp>=3.7.4.post0 in /usr/local/lib/python3.10/dist-packages (from web3==6.0.0b11) (3.11.10)\n",
            "Requirement already satisfied: eth-abi>=4.0.0-b.2 in /usr/local/lib/python3.10/dist-packages (from web3==6.0.0b11) (5.0.1)\n",
            "Requirement already satisfied: parsimonious==0.9.0 in /usr/local/lib/python3.10/dist-packages (from web3==6.0.0b11) (0.9.0)\n",
            "Requirement already satisfied: eth-account>=0.8.0 in /usr/local/lib/python3.10/dist-packages (from web3==6.0.0b11) (0.13.4)\n",
            "Requirement already satisfied: eth-hash>=0.5.1 in /usr/local/lib/python3.10/dist-packages (from eth-hash[pycryptodome]>=0.5.1->web3==6.0.0b11) (0.7.1)\n",
            "Requirement already satisfied: eth-typing>=3.0.0 in /usr/local/lib/python3.10/dist-packages (from web3==6.0.0b11) (5.1.0)\n",
            "Requirement already satisfied: eth-utils>=2.1.0 in /usr/local/lib/python3.10/dist-packages (from web3==6.0.0b11) (5.1.0)\n",
            "Requirement already satisfied: hexbytes>=0.1.0 in /usr/local/lib/python3.10/dist-packages (from web3==6.0.0b11) (1.3.0)\n",
            "Requirement already satisfied: jsonschema>=4.0.0 in /usr/local/lib/python3.10/dist-packages (from web3==6.0.0b11) (4.23.0)\n",
            "Requirement already satisfied: lru-dict>=1.1.6 in /usr/local/lib/python3.10/dist-packages (from web3==6.0.0b11) (1.3.0)\n",
            "Requirement already satisfied: protobuf>=4.21.6 in /usr/local/lib/python3.10/dist-packages (from web3==6.0.0b11) (4.25.5)\n",
            "Requirement already satisfied: requests>=2.16.0 in /usr/local/lib/python3.10/dist-packages (from web3==6.0.0b11) (2.32.3)\n",
            "Requirement already satisfied: websockets>=10.0.0 in /usr/local/lib/python3.10/dist-packages (from web3==6.0.0b11) (13.1)\n",
            "Requirement already satisfied: regex>=2022.3.15 in /usr/local/lib/python3.10/dist-packages (from parsimonious==0.9.0->web3==6.0.0b11) (2024.11.6)\n",
            "Requirement already satisfied: aiohappyeyeballs>=2.3.0 in /usr/local/lib/python3.10/dist-packages (from aiohttp>=3.7.4.post0->web3==6.0.0b11) (2.4.4)\n",
            "Requirement already satisfied: aiosignal>=1.1.2 in /usr/local/lib/python3.10/dist-packages (from aiohttp>=3.7.4.post0->web3==6.0.0b11) (1.3.2)\n",
            "Requirement already satisfied: async-timeout<6.0,>=4.0 in /usr/local/lib/python3.10/dist-packages (from aiohttp>=3.7.4.post0->web3==6.0.0b11) (4.0.3)\n",
            "Requirement already satisfied: attrs>=17.3.0 in /usr/local/lib/python3.10/dist-packages (from aiohttp>=3.7.4.post0->web3==6.0.0b11) (24.3.0)\n",
            "Requirement already satisfied: frozenlist>=1.1.1 in /usr/local/lib/python3.10/dist-packages (from aiohttp>=3.7.4.post0->web3==6.0.0b11) (1.5.0)\n",
            "Requirement already satisfied: multidict<7.0,>=4.5 in /usr/local/lib/python3.10/dist-packages (from aiohttp>=3.7.4.post0->web3==6.0.0b11) (6.1.0)\n",
            "Requirement already satisfied: propcache>=0.2.0 in /usr/local/lib/python3.10/dist-packages (from aiohttp>=3.7.4.post0->web3==6.0.0b11) (0.2.1)\n",
            "Requirement already satisfied: yarl<2.0,>=1.17.0 in /usr/local/lib/python3.10/dist-packages (from aiohttp>=3.7.4.post0->web3==6.0.0b11) (1.18.3)\n",
            "Requirement already satisfied: bitarray>=2.4.0 in /usr/local/lib/python3.10/dist-packages (from eth-account>=0.8.0->web3==6.0.0b11) (3.0.0)\n",
            "Requirement already satisfied: eth-keyfile<0.9.0,>=0.7.0 in /usr/local/lib/python3.10/dist-packages (from eth-account>=0.8.0->web3==6.0.0b11) (0.8.1)\n",
            "Requirement already satisfied: eth-keys>=0.4.0 in /usr/local/lib/python3.10/dist-packages (from eth-account>=0.8.0->web3==6.0.0b11) (0.6.1)\n",
            "Requirement already satisfied: eth-rlp>=2.1.0 in /usr/local/lib/python3.10/dist-packages (from eth-account>=0.8.0->web3==6.0.0b11) (2.1.0)\n",
            "Requirement already satisfied: rlp>=1.0.0 in /usr/local/lib/python3.10/dist-packages (from eth-account>=0.8.0->web3==6.0.0b11) (4.0.1)\n",
            "Requirement already satisfied: ckzg>=2.0.0 in /usr/local/lib/python3.10/dist-packages (from eth-account>=0.8.0->web3==6.0.0b11) (2.0.1)\n",
            "Requirement already satisfied: pydantic>=2.0.0 in /usr/local/lib/python3.10/dist-packages (from eth-account>=0.8.0->web3==6.0.0b11) (2.10.3)\n",
            "Requirement already satisfied: pycryptodome<4,>=3.6.6 in /usr/local/lib/python3.10/dist-packages (from eth-hash[pycryptodome]>=0.5.1->web3==6.0.0b11) (3.21.0)\n",
            "Requirement already satisfied: typing_extensions>=4.5.0 in /usr/local/lib/python3.10/dist-packages (from eth-typing>=3.0.0->web3==6.0.0b11) (4.12.2)\n",
            "Requirement already satisfied: cytoolz>=0.10.1 in /usr/local/lib/python3.10/dist-packages (from eth-utils>=2.1.0->web3==6.0.0b11) (1.0.1)\n",
            "Requirement already satisfied: jsonschema-specifications>=2023.03.6 in /usr/local/lib/python3.10/dist-packages (from jsonschema>=4.0.0->web3==6.0.0b11) (2024.10.1)\n",
            "Requirement already satisfied: referencing>=0.28.4 in /usr/local/lib/python3.10/dist-packages (from jsonschema>=4.0.0->web3==6.0.0b11) (0.35.1)\n",
            "Requirement already satisfied: rpds-py>=0.7.1 in /usr/local/lib/python3.10/dist-packages (from jsonschema>=4.0.0->web3==6.0.0b11) (0.22.3)\n",
            "Requirement already satisfied: charset-normalizer<4,>=2 in /usr/local/lib/python3.10/dist-packages (from requests>=2.16.0->web3==6.0.0b11) (3.4.0)\n",
            "Requirement already satisfied: idna<4,>=2.5 in /usr/local/lib/python3.10/dist-packages (from requests>=2.16.0->web3==6.0.0b11) (3.10)\n",
            "Requirement already satisfied: urllib3<3,>=1.21.1 in /usr/local/lib/python3.10/dist-packages (from requests>=2.16.0->web3==6.0.0b11) (2.2.3)\n",
            "Requirement already satisfied: certifi>=2017.4.17 in /usr/local/lib/python3.10/dist-packages (from requests>=2.16.0->web3==6.0.0b11) (2024.12.14)\n",
            "Requirement already satisfied: toolz>=0.8.0 in /usr/local/lib/python3.10/dist-packages (from cytoolz>=0.10.1->eth-utils>=2.1.0->web3==6.0.0b11) (0.12.1)\n",
            "Requirement already satisfied: annotated-types>=0.6.0 in /usr/local/lib/python3.10/dist-packages (from pydantic>=2.0.0->eth-account>=0.8.0->web3==6.0.0b11) (0.7.0)\n",
            "Requirement already satisfied: pydantic-core==2.27.1 in /usr/local/lib/python3.10/dist-packages (from pydantic>=2.0.0->eth-account>=0.8.0->web3==6.0.0b11) (2.27.1)\n",
            "Requirement already satisfied: web3[tester] in /usr/local/lib/python3.10/dist-packages (6.0.0b11)\n",
            "Collecting web3[tester]\n",
            "  Using cached web3-7.6.1-py3-none-any.whl.metadata (5.4 kB)\n",
            "Requirement already satisfied: eth-abi>=5.0.1 in /usr/local/lib/python3.10/dist-packages (from web3[tester]) (5.0.1)\n",
            "Requirement already satisfied: eth-account>=0.13.1 in /usr/local/lib/python3.10/dist-packages (from web3[tester]) (0.13.4)\n",
            "Requirement already satisfied: eth-hash>=0.5.1 in /usr/local/lib/python3.10/dist-packages (from eth-hash[pycryptodome]>=0.5.1->web3[tester]) (0.7.1)\n",
            "Requirement already satisfied: eth-typing>=5.0.0 in /usr/local/lib/python3.10/dist-packages (from web3[tester]) (5.1.0)\n",
            "Requirement already satisfied: eth-utils>=5.0.0 in /usr/local/lib/python3.10/dist-packages (from web3[tester]) (5.1.0)\n",
            "Requirement already satisfied: hexbytes>=1.2.0 in /usr/local/lib/python3.10/dist-packages (from web3[tester]) (1.3.0)\n",
            "Requirement already satisfied: aiohttp>=3.7.4.post0 in /usr/local/lib/python3.10/dist-packages (from web3[tester]) (3.11.10)\n",
            "Requirement already satisfied: pydantic>=2.4.0 in /usr/local/lib/python3.10/dist-packages (from web3[tester]) (2.10.3)\n",
            "Requirement already satisfied: requests>=2.23.0 in /usr/local/lib/python3.10/dist-packages (from web3[tester]) (2.32.3)\n",
            "Requirement already satisfied: typing-extensions>=4.0.1 in /usr/local/lib/python3.10/dist-packages (from web3[tester]) (4.12.2)\n",
            "Requirement already satisfied: types-requests>=2.0.0 in /usr/local/lib/python3.10/dist-packages (from web3[tester]) (2.32.0.20241016)\n",
            "Requirement already satisfied: websockets<14.0.0,>=10.0.0 in /usr/local/lib/python3.10/dist-packages (from web3[tester]) (13.1)\n",
            "Requirement already satisfied: pyunormalize>=15.0.0 in /usr/local/lib/python3.10/dist-packages (from web3[tester]) (16.0.0)\n",
            "Requirement already satisfied: eth-tester<0.13.0b1,>=0.12.0b1 in /usr/local/lib/python3.10/dist-packages (from eth-tester[py-evm]<0.13.0b1,>=0.12.0b1; extra == \"tester\"->web3[tester]) (0.12.0b2)\n",
            "Requirement already satisfied: py-geth>=5.1.0 in /usr/local/lib/python3.10/dist-packages (from web3[tester]) (5.2.0)\n",
            "Requirement already satisfied: aiohappyeyeballs>=2.3.0 in /usr/local/lib/python3.10/dist-packages (from aiohttp>=3.7.4.post0->web3[tester]) (2.4.4)\n",
            "Requirement already satisfied: aiosignal>=1.1.2 in /usr/local/lib/python3.10/dist-packages (from aiohttp>=3.7.4.post0->web3[tester]) (1.3.2)\n",
            "Requirement already satisfied: async-timeout<6.0,>=4.0 in /usr/local/lib/python3.10/dist-packages (from aiohttp>=3.7.4.post0->web3[tester]) (4.0.3)\n",
            "Requirement already satisfied: attrs>=17.3.0 in /usr/local/lib/python3.10/dist-packages (from aiohttp>=3.7.4.post0->web3[tester]) (24.3.0)\n",
            "Requirement already satisfied: frozenlist>=1.1.1 in /usr/local/lib/python3.10/dist-packages (from aiohttp>=3.7.4.post0->web3[tester]) (1.5.0)\n",
            "Requirement already satisfied: multidict<7.0,>=4.5 in /usr/local/lib/python3.10/dist-packages (from aiohttp>=3.7.4.post0->web3[tester]) (6.1.0)\n",
            "Requirement already satisfied: propcache>=0.2.0 in /usr/local/lib/python3.10/dist-packages (from aiohttp>=3.7.4.post0->web3[tester]) (0.2.1)\n",
            "Requirement already satisfied: yarl<2.0,>=1.17.0 in /usr/local/lib/python3.10/dist-packages (from aiohttp>=3.7.4.post0->web3[tester]) (1.18.3)\n",
            "Requirement already satisfied: parsimonious<0.10.0,>=0.9.0 in /usr/local/lib/python3.10/dist-packages (from eth-abi>=5.0.1->web3[tester]) (0.9.0)\n",
            "Requirement already satisfied: bitarray>=2.4.0 in /usr/local/lib/python3.10/dist-packages (from eth-account>=0.13.1->web3[tester]) (3.0.0)\n",
            "Requirement already satisfied: eth-keyfile<0.9.0,>=0.7.0 in /usr/local/lib/python3.10/dist-packages (from eth-account>=0.13.1->web3[tester]) (0.8.1)\n",
            "Requirement already satisfied: eth-keys>=0.4.0 in /usr/local/lib/python3.10/dist-packages (from eth-account>=0.13.1->web3[tester]) (0.6.1)\n",
            "Requirement already satisfied: eth-rlp>=2.1.0 in /usr/local/lib/python3.10/dist-packages (from eth-account>=0.13.1->web3[tester]) (2.1.0)\n",
            "Requirement already satisfied: rlp>=1.0.0 in /usr/local/lib/python3.10/dist-packages (from eth-account>=0.13.1->web3[tester]) (4.0.1)\n",
            "Requirement already satisfied: ckzg>=2.0.0 in /usr/local/lib/python3.10/dist-packages (from eth-account>=0.13.1->web3[tester]) (2.0.1)\n",
            "Requirement already satisfied: pycryptodome<4,>=3.6.6 in /usr/local/lib/python3.10/dist-packages (from eth-hash[pycryptodome]>=0.5.1->web3[tester]) (3.21.0)\n",
            "Requirement already satisfied: semantic-version>=2.6.0 in /usr/local/lib/python3.10/dist-packages (from eth-tester<0.13.0b1,>=0.12.0b1->eth-tester[py-evm]<0.13.0b1,>=0.12.0b1; extra == \"tester\"->web3[tester]) (2.10.0)\n",
            "Requirement already satisfied: py-evm<0.11.0b0,>=0.10.0b0 in /usr/local/lib/python3.10/dist-packages (from eth-tester[py-evm]<0.13.0b1,>=0.12.0b1; extra == \"tester\"->web3[tester]) (0.10.1b2)\n",
            "Requirement already satisfied: cytoolz>=0.10.1 in /usr/local/lib/python3.10/dist-packages (from eth-utils>=5.0.0->web3[tester]) (1.0.1)\n",
            "Requirement already satisfied: annotated-types>=0.6.0 in /usr/local/lib/python3.10/dist-packages (from pydantic>=2.4.0->web3[tester]) (0.7.0)\n",
            "Requirement already satisfied: pydantic-core==2.27.1 in /usr/local/lib/python3.10/dist-packages (from pydantic>=2.4.0->web3[tester]) (2.27.1)\n",
            "Requirement already satisfied: charset-normalizer<4,>=2 in /usr/local/lib/python3.10/dist-packages (from requests>=2.23.0->web3[tester]) (3.4.0)\n",
            "Requirement already satisfied: idna<4,>=2.5 in /usr/local/lib/python3.10/dist-packages (from requests>=2.23.0->web3[tester]) (3.10)\n",
            "Requirement already satisfied: urllib3<3,>=1.21.1 in /usr/local/lib/python3.10/dist-packages (from requests>=2.23.0->web3[tester]) (2.2.3)\n",
            "Requirement already satisfied: certifi>=2017.4.17 in /usr/local/lib/python3.10/dist-packages (from requests>=2.23.0->web3[tester]) (2024.12.14)\n",
            "Requirement already satisfied: toolz>=0.8.0 in /usr/local/lib/python3.10/dist-packages (from cytoolz>=0.10.1->eth-utils>=5.0.0->web3[tester]) (0.12.1)\n",
            "Requirement already satisfied: safe-pysha3>=1.0.0 in /usr/local/lib/python3.10/dist-packages (from eth-hash>=0.5.1->eth-hash[pycryptodome]>=0.5.1->web3[tester]) (1.0.4)\n",
            "Requirement already satisfied: regex>=2022.3.15 in /usr/local/lib/python3.10/dist-packages (from parsimonious<0.10.0,>=0.9.0->eth-abi>=5.0.1->web3[tester]) (2024.11.6)\n",
            "Requirement already satisfied: cached-property>=1.5.1 in /usr/local/lib/python3.10/dist-packages (from py-evm<0.11.0b0,>=0.10.0b0->eth-tester[py-evm]<0.13.0b1,>=0.12.0b1; extra == \"tester\"->web3[tester]) (2.0.1)\n",
            "Requirement already satisfied: eth-bloom>=1.0.3 in /usr/local/lib/python3.10/dist-packages (from py-evm<0.11.0b0,>=0.10.0b0->eth-tester[py-evm]<0.13.0b1,>=0.12.0b1; extra == \"tester\"->web3[tester]) (3.1.0)\n",
            "Requirement already satisfied: lru-dict>=1.1.6 in /usr/local/lib/python3.10/dist-packages (from py-evm<0.11.0b0,>=0.10.0b0->eth-tester[py-evm]<0.13.0b1,>=0.12.0b1; extra == \"tester\"->web3[tester]) (1.3.0)\n",
            "Requirement already satisfied: py-ecc>=1.4.7 in /usr/local/lib/python3.10/dist-packages (from py-evm<0.11.0b0,>=0.10.0b0->eth-tester[py-evm]<0.13.0b1,>=0.12.0b1; extra == \"tester\"->web3[tester]) (7.0.1)\n",
            "Requirement already satisfied: trie>=2.0.0 in /usr/local/lib/python3.10/dist-packages (from py-evm<0.11.0b0,>=0.10.0b0->eth-tester[py-evm]<0.13.0b1,>=0.12.0b1; extra == \"tester\"->web3[tester]) (3.0.1)\n",
            "Requirement already satisfied: sortedcontainers>=2.1.0 in /usr/local/lib/python3.10/dist-packages (from trie>=2.0.0->py-evm<0.11.0b0,>=0.10.0b0->eth-tester[py-evm]<0.13.0b1,>=0.12.0b1; extra == \"tester\"->web3[tester]) (2.4.0)\n",
            "Using cached web3-7.6.1-py3-none-any.whl (1.4 MB)\n",
            "Installing collected packages: web3\n",
            "  Attempting uninstall: web3\n",
            "    Found existing installation: web3 6.0.0b11\n",
            "    Uninstalling web3-6.0.0b11:\n",
            "      Successfully uninstalled web3-6.0.0b11\n",
            "Successfully installed web3-7.6.1\n",
            "Requirement already satisfied: py-solc-x in /usr/local/lib/python3.10/dist-packages (2.0.3)\n",
            "Requirement already satisfied: requests<3,>=2.19.0 in /usr/local/lib/python3.10/dist-packages (from py-solc-x) (2.32.3)\n",
            "Requirement already satisfied: packaging<24,>=23.1 in /usr/local/lib/python3.10/dist-packages (from py-solc-x) (23.2)\n",
            "Requirement already satisfied: charset-normalizer<4,>=2 in /usr/local/lib/python3.10/dist-packages (from requests<3,>=2.19.0->py-solc-x) (3.4.0)\n",
            "Requirement already satisfied: idna<4,>=2.5 in /usr/local/lib/python3.10/dist-packages (from requests<3,>=2.19.0->py-solc-x) (3.10)\n",
            "Requirement already satisfied: urllib3<3,>=1.21.1 in /usr/local/lib/python3.10/dist-packages (from requests<3,>=2.19.0->py-solc-x) (2.2.3)\n",
            "Requirement already satisfied: certifi>=2017.4.17 in /usr/local/lib/python3.10/dist-packages (from requests<3,>=2.19.0->py-solc-x) (2024.12.14)\n"
          ]
        }
      ]
    },
    {
      "cell_type": "code",
      "source": [
        "from solcx import get_installable_solc_versions\n",
        "print(get_installable_solc_versions())"
      ],
      "metadata": {
        "colab": {
          "base_uri": "https://localhost:8080/"
        },
        "id": "PDmsDguOYYrH",
        "outputId": "f94c5cbf-b139-43bf-fce7-4be20a8a6f91"
      },
      "execution_count": 2,
      "outputs": [
        {
          "output_type": "stream",
          "name": "stdout",
          "text": [
            "[<Version('0.8.28')>, <Version('0.8.27')>, <Version('0.8.26')>, <Version('0.8.25')>, <Version('0.8.24')>, <Version('0.8.23')>, <Version('0.8.22')>, <Version('0.8.21')>, <Version('0.8.20')>, <Version('0.8.19')>, <Version('0.8.18')>, <Version('0.8.17')>, <Version('0.8.16')>, <Version('0.8.15')>, <Version('0.8.14')>, <Version('0.8.13')>, <Version('0.8.12')>, <Version('0.8.11')>, <Version('0.8.10')>, <Version('0.8.9')>, <Version('0.8.8')>, <Version('0.8.7')>, <Version('0.8.6')>, <Version('0.8.5')>, <Version('0.8.4')>, <Version('0.8.3')>, <Version('0.8.2')>, <Version('0.8.1')>, <Version('0.8.0')>, <Version('0.7.6')>, <Version('0.7.5')>, <Version('0.7.4')>, <Version('0.7.3')>, <Version('0.7.2')>, <Version('0.7.1')>, <Version('0.7.0')>, <Version('0.6.12')>, <Version('0.6.11')>, <Version('0.6.10')>, <Version('0.6.9')>, <Version('0.6.8')>, <Version('0.6.7')>, <Version('0.6.6')>, <Version('0.6.5')>, <Version('0.6.4')>, <Version('0.6.3')>, <Version('0.6.2')>, <Version('0.6.1')>, <Version('0.6.0')>, <Version('0.5.17')>, <Version('0.5.16')>, <Version('0.5.15')>, <Version('0.5.14')>, <Version('0.5.13')>, <Version('0.5.12')>, <Version('0.5.11')>, <Version('0.5.10')>, <Version('0.5.9')>, <Version('0.5.8')>, <Version('0.5.7')>, <Version('0.5.6')>, <Version('0.5.5')>, <Version('0.5.4')>, <Version('0.5.3')>, <Version('0.5.2')>, <Version('0.5.1')>, <Version('0.5.0')>, <Version('0.4.26')>, <Version('0.4.25')>, <Version('0.4.24')>, <Version('0.4.23')>, <Version('0.4.22')>, <Version('0.4.21')>, <Version('0.4.20')>, <Version('0.4.19')>, <Version('0.4.18')>, <Version('0.4.17')>, <Version('0.4.16')>, <Version('0.4.15')>, <Version('0.4.14')>, <Version('0.4.13')>, <Version('0.4.12')>, <Version('0.4.11')>]\n"
          ]
        }
      ]
    },
    {
      "cell_type": "code",
      "source": [
        "from web3 import Web3\n",
        "from solcx import install_solc\n",
        "install_solc('0.8.28') # Install a specific solc version.\n",
        "from solcx import compile_source\n",
        "import random"
      ],
      "metadata": {
        "id": "fUJRkqZ139iN"
      },
      "execution_count": 3,
      "outputs": []
    },
    {
      "cell_type": "code",
      "source": [
        "# Solidity source code\n",
        "compiled_sol = compile_source(\n",
        "    '''\n",
        "    pragma solidity >0.5.0;\n",
        "\n",
        "    contract Hangman {\n",
        "        string public playerName;  // <-- to prevent multiple plyer\n",
        "        string public word;\n",
        "        string public quiz;\n",
        "\n",
        "        constructor() public {\n",
        "            playerName = '';  //do we need this?\n",
        "        }\n",
        "\n",
        "        function setPlayerName(string memory _playerName) public{\n",
        "            playerName = _playerName;\n",
        "        }\n",
        "\n",
        "        function viewPlayerName() view public returns (string memory) {\n",
        "            return playerName;\n",
        "        }\n",
        "\n",
        "        function setWord(string memory _word) public {\n",
        "            word = _word;\n",
        "        }\n",
        "\n",
        "        function getWord() view public returns (string memory) {\n",
        "            return word;\n",
        "        }\n",
        "\n",
        "        function setQuiz(string memory _quiz) public {\n",
        "            quiz = _quiz;\n",
        "        }\n",
        "\n",
        "        function getQuiz() view public returns (string memory) {\n",
        "            return quiz;\n",
        "        }\n",
        "    }\n",
        "    ''',\n",
        "    output_values=['abi', 'bin']\n",
        ")\n"
      ],
      "metadata": {
        "id": "yybTfneh9bZ3"
      },
      "execution_count": 22,
      "outputs": []
    },
    {
      "cell_type": "code",
      "source": [
        "# retrieve the contract interface\n",
        "contract_id, contract_interface = compiled_sol.popitem()"
      ],
      "metadata": {
        "id": "Fl4iG4a2L_Mt"
      },
      "execution_count": 23,
      "outputs": []
    },
    {
      "cell_type": "code",
      "source": [
        "# get bytecode / bin\n",
        "bytecode = contract_interface['bin']"
      ],
      "metadata": {
        "id": "Y2oLkQK7NCT_"
      },
      "execution_count": 24,
      "outputs": []
    },
    {
      "cell_type": "code",
      "source": [
        "# get abi\n",
        "abi = contract_interface['abi']"
      ],
      "metadata": {
        "id": "q7_NXaKiNFzN"
      },
      "execution_count": 25,
      "outputs": []
    },
    {
      "cell_type": "code",
      "source": [
        "# web3.py instance\n",
        "w3 = Web3(Web3.EthereumTesterProvider())"
      ],
      "metadata": {
        "colab": {
          "base_uri": "https://localhost:8080/"
        },
        "id": "Rke8qwReNJW3",
        "outputId": "2672cc19-46da-4c24-8eca-e7cad9260e2c"
      },
      "execution_count": 26,
      "outputs": [
        {
          "output_type": "stream",
          "name": "stderr",
          "text": [
            "<frozen importlib._bootstrap>:914: ImportWarning: _PyDrive2ImportHook.find_spec() not found; falling back to find_module()\n",
            "<frozen importlib._bootstrap>:914: ImportWarning: _PyDriveImportHook.find_spec() not found; falling back to find_module()\n",
            "<frozen importlib._bootstrap>:914: ImportWarning: _GenerativeAIImportHook.find_spec() not found; falling back to find_module()\n",
            "<frozen importlib._bootstrap>:914: ImportWarning: _OpenCVImportHook.find_spec() not found; falling back to find_module()\n",
            "<frozen importlib._bootstrap>:914: ImportWarning: APICoreClientInfoImportHook.find_spec() not found; falling back to find_module()\n",
            "<frozen importlib._bootstrap>:914: ImportWarning: _BokehImportHook.find_spec() not found; falling back to find_module()\n",
            "<frozen importlib._bootstrap>:914: ImportWarning: _AltairImportHook.find_spec() not found; falling back to find_module()\n"
          ]
        }
      ]
    },
    {
      "cell_type": "code",
      "source": [
        "# set pre-funded account as sender\n",
        "w3.eth.default_account = w3.eth.accounts[0]"
      ],
      "metadata": {
        "id": "FfFwbUWUNMxU"
      },
      "execution_count": 27,
      "outputs": []
    },
    {
      "cell_type": "code",
      "source": [
        "Hangman = w3.eth.contract(abi=abi, bytecode=bytecode)"
      ],
      "metadata": {
        "id": "yd-6PkoaNPJx"
      },
      "execution_count": 28,
      "outputs": []
    },
    {
      "cell_type": "code",
      "source": [
        "# Submit the transaction that deploys the contract\n",
        "tx_hash = Hangman.constructor().transact()"
      ],
      "metadata": {
        "id": "MHAzlHmdNSJ2"
      },
      "execution_count": 29,
      "outputs": []
    },
    {
      "cell_type": "code",
      "source": [
        "# Wait for the transaction to be mined, and get the transaction receipt\n",
        "tx_receipt = w3.eth.wait_for_transaction_receipt(tx_hash)"
      ],
      "metadata": {
        "id": "ftGWWYzZNU0p"
      },
      "execution_count": 30,
      "outputs": []
    },
    {
      "cell_type": "code",
      "source": [
        "hangman = w3.eth.contract(\n",
        "    address=tx_receipt.contractAddress,\n",
        "    abi=abi\n",
        ")"
      ],
      "metadata": {
        "id": "JxhzZrsoNYY7"
      },
      "execution_count": 31,
      "outputs": []
    },
    {
      "cell_type": "code",
      "execution_count": 32,
      "metadata": {
        "id": "HJzkHNWylMmX"
      },
      "outputs": [],
      "source": [
        "# Word bag\n",
        "coins = [\"bitcoin\", \"ethereum\", \"solana\", \"dogecoin\", \"avalanche\", \"stellar\", \"chainlink\", \"shiba inu\", \"polkadot\", \"pudge penguins\",\n",
        "         \"bitget token\", \"litecoin\", \"hyperliquid\", \"near protocol\", \"worldcoin\", \"internet computer\", \"artificial superintelligence alliance\", \"thorchain\", \"cosmos\", \"optimism\",]"
      ]
    },
    {
      "cell_type": "code",
      "source": [
        "# Check whether someone is already playing\n",
        "if (hangman.functions.viewPlayerName()) != '':\n",
        "  # Ask player's name and send to the contract\n",
        "  tx_hash = hangman.functions.setPlayerName(input(\"Please insert player's name \")).transact()\n",
        "  tx_receipt = w3.eth.wait_for_transaction_receipt(tx_hash)\n",
        "else:\n",
        "  print(\"Someone is already playing\")"
      ],
      "metadata": {
        "colab": {
          "base_uri": "https://localhost:8080/"
        },
        "id": "bJQGiaD5aG7s",
        "outputId": "30a32830-4cc2-4f05-e67c-c463a34e2c1b"
      },
      "execution_count": 34,
      "outputs": [
        {
          "output_type": "stream",
          "name": "stderr",
          "text": [
            "/usr/local/lib/python3.10/dist-packages/ipykernel/ipkernel.py:283: DeprecationWarning: `should_run_async` will not call `transform_cell` automatically in the future. Please pass the result to `transformed_cell` argument and any exception that happen during thetransform in `preprocessing_exc_tuple` in IPython 7.17 and above.\n",
            "  and should_run_async(code)\n"
          ]
        },
        {
          "name": "stdout",
          "output_type": "stream",
          "text": [
            "Please insert player's name Yuna\n"
          ]
        },
        {
          "output_type": "stream",
          "name": "stderr",
          "text": [
            "<frozen importlib._bootstrap>:914: ImportWarning: _PyDrive2ImportHook.find_spec() not found; falling back to find_module()\n",
            "<frozen importlib._bootstrap>:914: ImportWarning: _PyDriveImportHook.find_spec() not found; falling back to find_module()\n",
            "<frozen importlib._bootstrap>:914: ImportWarning: _GenerativeAIImportHook.find_spec() not found; falling back to find_module()\n",
            "<frozen importlib._bootstrap>:914: ImportWarning: _OpenCVImportHook.find_spec() not found; falling back to find_module()\n",
            "<frozen importlib._bootstrap>:914: ImportWarning: APICoreClientInfoImportHook.find_spec() not found; falling back to find_module()\n",
            "<frozen importlib._bootstrap>:914: ImportWarning: _BokehImportHook.find_spec() not found; falling back to find_module()\n",
            "<frozen importlib._bootstrap>:914: ImportWarning: _AltairImportHook.find_spec() not found; falling back to find_module()\n"
          ]
        }
      ]
    },
    {
      "cell_type": "code",
      "source": [
        "# choose a word randomly\n",
        "word = random.choice(coins)"
      ],
      "metadata": {
        "id": "qnCqdJ02l4w3"
      },
      "execution_count": 16,
      "outputs": []
    },
    {
      "cell_type": "code",
      "source": [
        "# send to contract\n",
        "tx_hash = hangman.functions.setWord(word).transact()\n",
        "tx_receipt = w3.eth.wait_for_transaction_receipt(tx_hash)"
      ],
      "metadata": {
        "id": "maA5zwki2Hx-"
      },
      "execution_count": 17,
      "outputs": []
    },
    {
      "cell_type": "code",
      "source": [
        "# Show #alphabet with '_'\n",
        "quiz = '_ ' *(len(word))\n",
        "print(quiz)"
      ],
      "metadata": {
        "colab": {
          "base_uri": "https://localhost:8080/"
        },
        "id": "T4IHBiFF2lOv",
        "outputId": "a6f056e9-dca2-40ef-85e2-452421767ed8"
      },
      "execution_count": 18,
      "outputs": [
        {
          "output_type": "stream",
          "name": "stdout",
          "text": [
            "_ _ _ _ _ _ _ \n"
          ]
        }
      ]
    },
    {
      "cell_type": "code",
      "source": [
        "# send to the contract\n",
        "tx_hash = hangman.functions.setQuiz(quiz).transact()\n",
        "tx_receipt = w3.eth.wait_for_transaction_receipt(tx_hash)"
      ],
      "metadata": {
        "id": "gU1XpPsl3If5"
      },
      "execution_count": 19,
      "outputs": []
    }
  ]
}
